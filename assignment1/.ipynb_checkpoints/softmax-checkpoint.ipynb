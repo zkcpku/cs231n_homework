{
 "cells": [
  {
   "cell_type": "markdown",
   "metadata": {},
   "source": [
    "# Softmax exercise\n",
    "\n",
    "*Complete and hand in this completed worksheet (including its outputs and any supporting code outside of the worksheet) with your assignment submission. For more details see the [assignments page](http://vision.stanford.edu/teaching/cs231n/assignments.html) on the course website.*\n",
    "\n",
    "This exercise is analogous to the SVM exercise. You will:\n",
    "\n",
    "- implement a fully-vectorized **loss function** for the Softmax classifier\n",
    "- implement the fully-vectorized expression for its **analytic gradient**\n",
    "- **check your implementation** with numerical gradient\n",
    "- use a validation set to **tune the learning rate and regularization** strength\n",
    "- **optimize** the loss function with **SGD**\n",
    "- **visualize** the final learned weights\n"
   ]
  },
  {
   "cell_type": "code",
   "execution_count": 1,
   "metadata": {},
   "outputs": [],
   "source": [
    "import random\n",
    "import numpy as np\n",
    "from cs231n.data_utils import load_CIFAR10\n",
    "import matplotlib.pyplot as plt\n",
    "\n",
    "from __future__ import print_function\n",
    "\n",
    "%matplotlib inline\n",
    "plt.rcParams['figure.figsize'] = (10.0, 8.0) # set default size of plots\n",
    "plt.rcParams['image.interpolation'] = 'nearest'\n",
    "plt.rcParams['image.cmap'] = 'gray'\n",
    "\n",
    "# for auto-reloading extenrnal modules\n",
    "# see http://stackoverflow.com/questions/1907993/autoreload-of-modules-in-ipython\n",
    "%load_ext autoreload\n",
    "%autoreload 2"
   ]
  },
  {
   "cell_type": "code",
   "execution_count": 2,
   "metadata": {},
   "outputs": [
    {
     "name": "stdout",
     "output_type": "stream",
     "text": [
      "Train data shape:  (49000, 3073)\n",
      "Train labels shape:  (49000,)\n",
      "Validation data shape:  (1000, 3073)\n",
      "Validation labels shape:  (1000,)\n",
      "Test data shape:  (1000, 3073)\n",
      "Test labels shape:  (1000,)\n",
      "dev data shape:  (500, 3073)\n",
      "dev labels shape:  (500,)\n"
     ]
    }
   ],
   "source": [
    "def get_CIFAR10_data(num_training=49000, num_validation=1000, num_test=1000, num_dev=500):\n",
    "    \"\"\"\n",
    "    Load the CIFAR-10 dataset from disk and perform preprocessing to prepare\n",
    "    it for the linear classifier. These are the same steps as we used for the\n",
    "    SVM, but condensed to a single function.  \n",
    "    \"\"\"\n",
    "    # Load the raw CIFAR-10 data\n",
    "    cifar10_dir = 'cs231n/datasets/cifar-10-batches-py'\n",
    "    \n",
    "    X_train, y_train, X_test, y_test = load_CIFAR10(cifar10_dir)\n",
    "    \n",
    "    # subsample the data\n",
    "    mask = list(range(num_training, num_training + num_validation))\n",
    "    X_val = X_train[mask]\n",
    "    y_val = y_train[mask]\n",
    "    mask = list(range(num_training))\n",
    "    X_train = X_train[mask]\n",
    "    y_train = y_train[mask]\n",
    "    mask = list(range(num_test))\n",
    "    X_test = X_test[mask]\n",
    "    y_test = y_test[mask]\n",
    "    mask = np.random.choice(num_training, num_dev, replace=False)\n",
    "    X_dev = X_train[mask]\n",
    "    y_dev = y_train[mask]\n",
    "    \n",
    "    # Preprocessing: reshape the image data into rows\n",
    "    X_train = np.reshape(X_train, (X_train.shape[0], -1))\n",
    "    X_val = np.reshape(X_val, (X_val.shape[0], -1))\n",
    "    X_test = np.reshape(X_test, (X_test.shape[0], -1))\n",
    "    X_dev = np.reshape(X_dev, (X_dev.shape[0], -1))\n",
    "    \n",
    "    # Normalize the data: subtract the mean image\n",
    "    mean_image = np.mean(X_train, axis = 0)\n",
    "    X_train -= mean_image\n",
    "    X_val -= mean_image\n",
    "    X_test -= mean_image\n",
    "    X_dev -= mean_image\n",
    "    \n",
    "    # add bias dimension and transform into columns\n",
    "    X_train = np.hstack([X_train, np.ones((X_train.shape[0], 1))])\n",
    "    X_val = np.hstack([X_val, np.ones((X_val.shape[0], 1))])\n",
    "    X_test = np.hstack([X_test, np.ones((X_test.shape[0], 1))])\n",
    "    X_dev = np.hstack([X_dev, np.ones((X_dev.shape[0], 1))])\n",
    "    \n",
    "    return X_train, y_train, X_val, y_val, X_test, y_test, X_dev, y_dev\n",
    "\n",
    "\n",
    "# Cleaning up variables to prevent loading data multiple times (which may cause memory issue)\n",
    "try:\n",
    "   del X_train, y_train\n",
    "   del X_test, y_test\n",
    "   print('Clear previously loaded data.')\n",
    "except:\n",
    "   pass\n",
    "\n",
    "# Invoke the above function to get our data.\n",
    "X_train, y_train, X_val, y_val, X_test, y_test, X_dev, y_dev = get_CIFAR10_data()\n",
    "print('Train data shape: ', X_train.shape)\n",
    "print('Train labels shape: ', y_train.shape)\n",
    "print('Validation data shape: ', X_val.shape)\n",
    "print('Validation labels shape: ', y_val.shape)\n",
    "print('Test data shape: ', X_test.shape)\n",
    "print('Test labels shape: ', y_test.shape)\n",
    "print('dev data shape: ', X_dev.shape)\n",
    "print('dev labels shape: ', y_dev.shape)"
   ]
  },
  {
   "cell_type": "markdown",
   "metadata": {},
   "source": [
    "## Softmax Classifier\n",
    "\n",
    "Your code for this section will all be written inside **cs231n/classifiers/softmax.py**. \n"
   ]
  },
  {
   "cell_type": "code",
   "execution_count": 3,
   "metadata": {},
   "outputs": [
    {
     "name": "stdout",
     "output_type": "stream",
     "text": [
      "loss: 2.333451\n",
      "sanity check: 2.302585\n"
     ]
    }
   ],
   "source": [
    "# First implement the naive softmax loss function with nested loops.\n",
    "# Open the file cs231n/classifiers/softmax.py and implement the\n",
    "# softmax_loss_naive function.\n",
    "\n",
    "from cs231n.classifiers.softmax import softmax_loss_naive\n",
    "import time\n",
    "\n",
    "# Generate a random softmax weight matrix and use it to compute the loss.\n",
    "W = np.random.randn(3073, 10) * 0.0001\n",
    "loss, grad = softmax_loss_naive(W, X_dev, y_dev, 0.0)\n",
    "\n",
    "# As a rough sanity check, our loss should be something close to -log(0.1).\n",
    "print('loss: %f' % loss)\n",
    "print('sanity check: %f' % (-np.log(0.1)))"
   ]
  },
  {
   "cell_type": "markdown",
   "metadata": {},
   "source": [
    "## Inline Question 1:\n",
    "Why do we expect our loss to be close to -log(0.1)? Explain briefly.**\n",
    "\n",
    "**Your answer:** W是随机生成的，可以认为最后的结果所有情况的可能性均为0.1(十分类)，在经过交叉熵即为-log(0.1)\n"
   ]
  },
  {
   "cell_type": "code",
   "execution_count": 4,
   "metadata": {},
   "outputs": [
    {
     "name": "stdout",
     "output_type": "stream",
     "text": [
      "numerical: 1.393686 analytic: 1.393686, relative error: 2.302960e-08\n",
      "numerical: -0.410679 analytic: -0.410679, relative error: 1.832354e-08\n",
      "numerical: -0.365074 analytic: -0.365074, relative error: 5.643124e-08\n",
      "numerical: -1.098880 analytic: -1.098880, relative error: 1.068218e-07\n",
      "numerical: 1.292072 analytic: 1.292072, relative error: 3.676240e-08\n",
      "numerical: 0.190620 analytic: 0.190620, relative error: 1.533910e-07\n",
      "numerical: 2.402597 analytic: 2.402597, relative error: 8.911145e-09\n",
      "numerical: 0.837251 analytic: 0.837251, relative error: 4.522022e-08\n",
      "numerical: -2.583485 analytic: -2.583485, relative error: 2.338278e-08\n",
      "numerical: 0.668374 analytic: 0.668374, relative error: 6.464162e-09\n",
      "numerical: 1.666933 analytic: 1.666933, relative error: 2.079652e-08\n",
      "numerical: -1.550890 analytic: -1.550890, relative error: 3.167561e-09\n",
      "numerical: -1.656682 analytic: -1.656682, relative error: 4.801208e-08\n",
      "numerical: -1.501629 analytic: -1.501629, relative error: 5.787326e-08\n",
      "numerical: 1.658653 analytic: 1.658653, relative error: 7.819331e-09\n",
      "numerical: -3.255443 analytic: -3.255443, relative error: 9.700328e-09\n",
      "numerical: 1.710774 analytic: 1.710774, relative error: 8.199569e-09\n",
      "numerical: -1.883563 analytic: -1.883563, relative error: 2.673645e-09\n",
      "numerical: -1.031498 analytic: -1.031498, relative error: 2.408714e-08\n",
      "numerical: -2.483113 analytic: -2.483113, relative error: 7.155893e-10\n"
     ]
    }
   ],
   "source": [
    "# Complete the implementation of softmax_loss_naive and implement a (naive)\n",
    "# version of the gradient that uses nested loops.\n",
    "loss, grad = softmax_loss_naive(W, X_dev, y_dev, 0.0)\n",
    "\n",
    "# As we did for the SVM, use numeric gradient checking as a debugging tool.\n",
    "# The numeric gradient should be close to the analytic gradient.\n",
    "from cs231n.gradient_check import grad_check_sparse\n",
    "f = lambda w: softmax_loss_naive(w, X_dev, y_dev, 0.0)[0]\n",
    "grad_numerical = grad_check_sparse(f, W, grad, 10)\n",
    "\n",
    "# similar to SVM case, do another gradient check with regularization\n",
    "loss, grad = softmax_loss_naive(W, X_dev, y_dev, 5e1)\n",
    "f = lambda w: softmax_loss_naive(w, X_dev, y_dev, 5e1)[0]\n",
    "grad_numerical = grad_check_sparse(f, W, grad, 10)"
   ]
  },
  {
   "cell_type": "code",
   "execution_count": 5,
   "metadata": {},
   "outputs": [
    {
     "name": "stdout",
     "output_type": "stream",
     "text": [
      "naive loss: 2.333451e+00 computed in 0.140340s\n",
      "vectorized loss: 2.333451e+00 computed in 0.006996s\n",
      "Loss difference: 0.000000\n",
      "Gradient difference: 0.000000\n"
     ]
    }
   ],
   "source": [
    "# Now that we have a naive implementation of the softmax loss function and its gradient,\n",
    "# implement a vectorized version in softmax_loss_vectorized.\n",
    "# The two versions should compute the same results, but the vectorized version should be\n",
    "# much faster.\n",
    "tic = time.time()\n",
    "loss_naive, grad_naive = softmax_loss_naive(W, X_dev, y_dev, 0.000005)\n",
    "toc = time.time()\n",
    "print('naive loss: %e computed in %fs' % (loss_naive, toc - tic))\n",
    "\n",
    "from cs231n.classifiers.softmax import softmax_loss_vectorized\n",
    "tic = time.time()\n",
    "loss_vectorized, grad_vectorized = softmax_loss_vectorized(W, X_dev, y_dev, 0.000005)\n",
    "toc = time.time()\n",
    "print('vectorized loss: %e computed in %fs' % (loss_vectorized, toc - tic))\n",
    "\n",
    "# As we did for the SVM, we use the Frobenius norm to compare the two versions\n",
    "# of the gradient.\n",
    "grad_difference = np.linalg.norm(grad_naive - grad_vectorized, ord='fro')\n",
    "print('Loss difference: %f' % np.abs(loss_naive - loss_vectorized))\n",
    "print('Gradient difference: %f' % grad_difference)"
   ]
  },
  {
   "cell_type": "code",
   "execution_count": 6,
   "metadata": {
    "scrolled": false
   },
   "outputs": [
    {
     "name": "stdout",
     "output_type": "stream",
     "text": [
      "循环 100 / 1500 次： loss =  287.33004473089636\n",
      "循环 200 / 1500 次： loss =  106.48349365676088\n",
      "循环 300 / 1500 次： loss =  40.300815272289974\n",
      "循环 400 / 1500 次： loss =  16.082501365055162\n",
      "循环 500 / 1500 次： loss =  7.1709550875977826\n",
      "循环 600 / 1500 次： loss =  3.94760025389687\n",
      "循环 700 / 1500 次： loss =  2.757430580911563\n",
      "循环 800 / 1500 次： loss =  2.342142353620934\n",
      "循环 900 / 1500 次： loss =  2.234952516247678\n",
      "循环 1000 / 1500 次： loss =  2.140419884042926\n",
      "循环 1100 / 1500 次： loss =  2.115206594052863\n",
      "循环 1200 / 1500 次： loss =  2.0429593443026497\n",
      "循环 1300 / 1500 次： loss =  2.1714851271730518\n",
      "循环 1400 / 1500 次： loss =  2.017581741029563\n",
      "循环 1500 / 1500 次： loss =  2.1002743179200576\n"
     ]
    },
    {
     "data": {
      "image/png": "[encoded data removed]",
      "text/plain": [
       "<Figure size 432x288 with 1 Axes>"
      ]
     },
     "metadata": {},
     "output_type": "display_data"
    },
    {
     "name": "stdout",
     "output_type": "stream",
     "text": [
      "循环 100 / 1500 次： loss =  212.06317451152682\n",
      "循环 200 / 1500 次： loss =  30.13411083922186\n",
      "循环 300 / 1500 次： loss =  5.877813415229156\n",
      "循环 400 / 1500 次： loss =  2.6162838578417196\n",
      "循环 500 / 1500 次： loss =  2.2292800025336814\n",
      "循环 600 / 1500 次： loss =  2.123915515104039\n",
      "循环 700 / 1500 次： loss =  2.166407322972089\n",
      "循环 800 / 1500 次： loss =  2.1440476609770953\n",
      "循环 900 / 1500 次： loss =  2.0954520372761367\n",
      "循环 1000 / 1500 次： loss =  2.1218121371251013\n",
      "循环 1100 / 1500 次： loss =  2.110913117384567\n",
      "循环 1200 / 1500 次： loss =  2.168636652566668\n",
      "循环 1300 / 1500 次： loss =  2.1207141520996813\n",
      "循环 1400 / 1500 次： loss =  2.1687237319724657\n",
      "循环 1500 / 1500 次： loss =  2.1092397661599525\n"
     ]
    },
    {
     "data": {
      "image/png": "[encoded data removed]",
      "text/plain": [
       "<Figure size 432x288 with 1 Axes>"
      ]
     },
     "metadata": {},
     "output_type": "display_data"
    },
    {
     "name": "stdout",
     "output_type": "stream",
     "text": [
      "循环 100 / 1500 次： loss =  7.156617823099498\n",
      "循环 200 / 1500 次： loss =  2.156450757547554\n",
      "循环 300 / 1500 次： loss =  2.152807113317536\n",
      "循环 400 / 1500 次： loss =  2.0621554026240627\n",
      "循环 500 / 1500 次： loss =  2.1425037641483167\n",
      "循环 600 / 1500 次： loss =  2.066873673489537\n",
      "循环 700 / 1500 次： loss =  2.04115634044076\n",
      "循环 800 / 1500 次： loss =  2.0792692625182103\n",
      "循环 900 / 1500 次： loss =  2.1439346633288774\n",
      "循环 1000 / 1500 次： loss =  2.0587978523718284\n",
      "循环 1100 / 1500 次： loss =  2.1170293234185844\n",
      "循环 1200 / 1500 次： loss =  2.0990872072765394\n",
      "循环 1300 / 1500 次： loss =  2.100242727691238\n",
      "循环 1400 / 1500 次： loss =  2.1028240914774736\n",
      "循环 1500 / 1500 次： loss =  2.1058469206294985\n"
     ]
    },
    {
     "data": {
      "image/png": "[encoded data removed]",
      "text/plain": [
       "<Figure size 432x288 with 1 Axes>"
      ]
     },
     "metadata": {},
     "output_type": "display_data"
    },
    {
     "name": "stdout",
     "output_type": "stream",
     "text": [
      "循环 100 / 1500 次： loss =  2.194925251870753\n",
      "循环 200 / 1500 次： loss =  2.148778358381356\n",
      "循环 300 / 1500 次： loss =  2.1478141611052743\n",
      "循环 400 / 1500 次： loss =  2.133164167543613\n",
      "循环 500 / 1500 次： loss =  2.1453786585195527\n",
      "循环 600 / 1500 次： loss =  2.1287276361810417\n",
      "循环 700 / 1500 次： loss =  2.1633152886758458\n",
      "循环 800 / 1500 次： loss =  2.139299258430222\n",
      "循环 900 / 1500 次： loss =  2.161138916544129\n",
      "循环 1000 / 1500 次： loss =  2.158371519577307\n",
      "循环 1100 / 1500 次： loss =  2.111367586372428\n",
      "循环 1200 / 1500 次： loss =  2.1144641886094657\n",
      "循环 1300 / 1500 次： loss =  2.1332322163460664\n",
      "循环 1400 / 1500 次： loss =  2.142145963037292\n",
      "循环 1500 / 1500 次： loss =  2.205867843984791\n"
     ]
    },
    {
     "data": {
      "image/png": "[encoded data removed]",
      "text/plain": [
       "<Figure size 432x288 with 1 Axes>"
      ]
     },
     "metadata": {},
     "output_type": "display_data"
    },
    {
     "name": "stdout",
     "output_type": "stream",
     "text": [
      "lr 1.000000e-07 reg 2.500000e+04 train accuracy: 0.328510 val accuracy: 0.346000\n",
      "lr 1.000000e-07 reg 5.000000e+04 train accuracy: 0.304980 val accuracy: 0.325000\n",
      "lr 5.000000e-07 reg 2.500000e+04 train accuracy: 0.322735 val accuracy: 0.339000\n",
      "lr 5.000000e-07 reg 5.000000e+04 train accuracy: 0.307102 val accuracy: 0.317000\n",
      "best validation accuracy achieved during cross-validation: 0.346000\n"
     ]
    }
   ],
   "source": [
    "# Use the validation set to tune hyperparameters (regularization strength and\n",
    "# learning rate). You should experiment with different ranges for the learning\n",
    "# rates and regularization strengths; if you are careful you should be able to\n",
    "# get a classification accuracy of over 0.35 on the validation set.\n",
    "from cs231n.classifiers import Softmax\n",
    "results = {}\n",
    "best_val = -1\n",
    "best_softmax = None\n",
    "learning_rates = [1e-7, 5e-7]\n",
    "regularization_strengths = [2.5e4, 5e4]\n",
    "\n",
    "num_iters = 1500\n",
    "################################################################################\n",
    "# TODO:                                                                        #\n",
    "# Use the validation set to set the learning rate and regularization strength. #\n",
    "# This should be identical to the validation that you did for the SVM; save    #\n",
    "# the best trained softmax classifer in best_softmax.                          #\n",
    "################################################################################\n",
    "from cs231n.classifiers.linear_classifier import Softmax\n",
    "for lr in learning_rates:\n",
    "    for reg in regularization_strengths:\n",
    "        my_sfm = Softmax()\n",
    "        lh = my_sfm.train(X_train,y_train,lr,reg,num_iters,verbose = True)\n",
    "        \n",
    "        my_t_a = np.mean(my_sfm.predict(X_train) == y_train)\n",
    "        my_v_a = np.mean(my_sfm.predict(X_val) == y_val)\n",
    "        \n",
    "        plt.plot(lh)\n",
    "        plt.show()\n",
    "        results[(lr,reg)] = (my_t_a,my_v_a)\n",
    "        if my_v_a > best_val:\n",
    "            best_val = my_v_a\n",
    "            best_softmax = my_sfm\n",
    "################################################################################\n",
    "#                              END OF YOUR CODE                                #\n",
    "################################################################################\n",
    "    \n",
    "# Print out results.\n",
    "for lr, reg in sorted(results):\n",
    "    train_accuracy, val_accuracy = results[(lr, reg)]\n",
    "    print('lr %e reg %e train accuracy: %f val accuracy: %f' % (\n",
    "                lr, reg, train_accuracy, val_accuracy))\n",
    "    \n",
    "print('best validation accuracy achieved during cross-validation: %f' % best_val)"
   ]
  },
  {
   "cell_type": "code",
   "execution_count": 7,
   "metadata": {},
   "outputs": [
    {
     "name": "stdout",
     "output_type": "stream",
     "text": [
      "softmax on raw pixels final test set accuracy: 0.340000\n"
     ]
    }
   ],
   "source": [
    "# evaluate on test set\n",
    "# Evaluate the best softmax on test set\n",
    "y_test_pred = best_softmax.predict(X_test)\n",
    "test_accuracy = np.mean(y_test == y_test_pred)\n",
    "print('softmax on raw pixels final test set accuracy: %f' % (test_accuracy, ))"
   ]
  },
  {
   "cell_type": "markdown",
   "metadata": {},
   "source": [
    "**Inline Question** - *True or False*\n",
    "\n",
    "It's possible to add a new datapoint to a training set that would leave the SVM loss unchanged, but this is not the case with the Softmax classifier loss.\n",
    "\n",
    "*Your answer*:?\n",
    "\n",
    "*Your explanation*:属实没看懂想问啥..."
   ]
  },
  {
   "cell_type": "code",
   "execution_count": 92,
   "metadata": {},
   "outputs": [
    {
     "data": {
      "image/png": "[encoded data removed]",
      "text/plain": [
       "<Figure size 720x576 with 10 Axes>"
      ]
     },
     "metadata": {},
     "output_type": "display_data"
    }
   ],
   "source": [
    "# Visualize the learned weights for each class\n",
    "w = best_softmax.W[:-1,:] # strip out the bias\n",
    "w = w.reshape(32, 32, 3, 10)\n",
    "\n",
    "w_min, w_max = np.min(w), np.max(w)\n",
    "\n",
    "classes = ['plane', 'car', 'bird', 'cat', 'deer', 'dog', 'frog', 'horse', 'ship', 'truck']\n",
    "for i in range(10):\n",
    "    plt.subplot(2, 5, i + 1)\n",
    "    \n",
    "    # Rescale the weights to be between 0 and 255\n",
    "    wimg = 255.0 * (w[:, :, :, i].squeeze() - w_min) / (w_max - w_min)\n",
    "    plt.imshow(wimg.astype('uint8'))\n",
    "    plt.axis('off')\n",
    "    plt.title(classes[i])"
   ]
  }
 ],
 "metadata": {
  "kernelspec": {
   "display_name": "Python 3",
   "language": "python",
   "name": "python3"
  },
  "language_info": {
   "codemirror_mode": {
    "name": "ipython",
    "version": 3
   },
   "file_extension": ".py",
   "mimetype": "text/x-python",
   "name": "python",
   "nbconvert_exporter": "python",
   "pygments_lexer": "ipython3",
   "version": "3.6.2"
  }
 },
 "nbformat": 4,
 "nbformat_minor": 1
}
